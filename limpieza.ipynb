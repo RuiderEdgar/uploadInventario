{
 "cells": [
  {
   "cell_type": "markdown",
   "metadata": {},
   "source": [
    "Leyendo el archivo"
   ]
  },
  {
   "cell_type": "code",
   "execution_count": 16,
   "metadata": {},
   "outputs": [
    {
     "name": "stdout",
     "output_type": "stream",
     "text": [
      "['DescargaMasiva_1747149382298.csv', 'DescargaMasiva_1747322247770.csv', 'DescargaMasiva_1747419620988.csv', 'DescargaMasiva_1747670573511.csv', 'DescargaMasiva_1747756506776.csv', 'DescargaMasiva_1747848774020.csv', 'DescargaMasiva_1747923340552.csv', 'DescargaMasiva_1747927370332.csv', 'DescargaMasiva_1748009635513.csv', 'DescargaMasiva_1748012833135.csv', 'DescargaMasiva_1748271879681.csv', 'DescargaMasiva_1748359299230.csv', 'DescargaMasiva_1748455147845.csv', 'DescargaMasiva_1748534291986.csv', 'DescargaMasiva_1748624518461.csv', 'DescargaMasiva_1748879608611.csv']\n",
      "16\n",
      "DescargaMasiva_1748879608611.csv\n"
     ]
    }
   ],
   "source": [
    "\n",
    "import pandas as pd\n",
    "from datetime import datetime\n",
    "import os\n",
    "\n",
    "folderCSV = './csv'\n",
    "archivos = os.listdir(folderCSV)\n",
    "print(archivos)\n",
    "print(len(archivos))\n",
    "archivo = archivos[(len(archivos)) - 1]\n",
    "print(archivo)\n",
    "\n",
    "df = pd.read_csv(f'csv\\{archivo}')\n",
    "\n"
   ]
  },
  {
   "cell_type": "markdown",
   "metadata": {},
   "source": [
    "Creando la limpieza de datos"
   ]
  },
  {
   "cell_type": "code",
   "execution_count": 17,
   "metadata": {},
   "outputs": [],
   "source": [
    "#Dando formato de fecha a la columna Tiempo\n",
    "df['Tiempo'] = pd.to_datetime(df['Tiempo'], format='%Y%m%d')\n",
    "\n",
    "#Limpiando espacios en nombres de columnas\n",
    "df.columns = df.columns.str.strip()\n",
    "\n",
    "# ---------- Agregando los ID Tienda faltantes de Credraui ----------\n",
    "\n",
    "# Aplicando el filtro\n",
    "mascara = (df['Cadena'] == 'Chedraui') & (\n",
    "  (df['ID TIENDA'].isna()) |  # Detecta NaN/None\n",
    "  (df['ID TIENDA'].str.strip() == \"\") |  # Detecta cadenas vacías\n",
    "  (df['ID TIENDA'] == 'SIN ASIGNAR')  # Detecta \"SIN ASIGNAR\"\n",
    ")\n",
    "\n",
    "# Aplicando el llenado\n",
    "df.loc[mascara, 'ID TIENDA'] = 'CHE' + df.loc[mascara, 'NumTienda'].astype(str)\n",
    "\n",
    "# ---------- Agregando los ID Tienda faltantes de City_Fresko ----------\n",
    "\n",
    "# Aplicando el filtro\n",
    "mascara = (df['Cadena'] == 'City_Fresko') & (\n",
    "  (df['ID TIENDA'].isna()) |  # Detecta NaN/None\n",
    "  (df['ID TIENDA'].str.strip() == \"\") |  # Detecta cadenas vacías\n",
    "  (df['ID TIENDA'] == 'SIN ASIGNAR')  # Detecta \"SIN ASIGNAR\"\n",
    ")\n",
    "\n",
    "# Aplicando el llenado\n",
    "df.loc[mascara, 'ID TIENDA'] = 'FRE' + df.loc[mascara, 'NumTienda'].astype(str)\n",
    "\n",
    "# ---------- Agregando los ID Tienda faltantes de HEB ----------\n",
    "\n",
    "# Aplicando el filtro\n",
    "mascara = (df['Cadena'] == 'HEB') & (\n",
    "  (df['ID TIENDA'].isna()) |  # Detecta NaN/None\n",
    "  (df['ID TIENDA'].str.strip() == \"\") |  # Detecta cadenas vacías\n",
    "  (df['ID TIENDA'] == 'SIN ASIGNAR')  # Detecta \"SIN ASIGNAR\"\n",
    ")\n",
    "\n",
    "# Aplicando el llenado\n",
    "df.loc[mascara, 'ID TIENDA'] = 'HEB' + df.loc[mascara, 'NumTienda'].astype(str)\n",
    "\n",
    "# ---------- Agregando los ID Tienda faltantes de Wal-Mart ----------\n",
    "\n",
    "# Aplicando el filtro\n",
    "mascara = (df['Cadena'] == 'Wal-Mart') & (\n",
    "  (df['ID TIENDA'].isna()) |  # Detecta NaN/None\n",
    "  (df['ID TIENDA'].str.strip() == \"\") |  # Detecta cadenas vacías\n",
    "  (df['ID TIENDA'] == 'SIN ASIGNAR')  # Detecta \"SIN ASIGNAR\"\n",
    ")\n",
    "\n",
    "# Aplicando el llenado\n",
    "df.loc[mascara, 'ID TIENDA'] = 'WM' + df.loc[mascara, 'NumTienda'].astype(str)\n",
    "\n",
    "\n",
    "\n",
    "# ---------- Agregando y sustituyendo los nombres faltantes de Chedarui ----------\n",
    "mascara = (df['NumTienda'] == 890)\n",
    "df.loc[mascara, 'NomTienda'] = '30003 SUPERCITO SELECTO TLAX INSURGENTES CUAU 06-24'\n",
    "\n",
    "mascara = (df['NumTienda'] == 839)\n",
    "df.loc[mascara, 'NomTienda'] = '06701 CHEDRAUI SELECTO PUEBLA B CASCATTA'\n",
    "\n",
    "mascara = (df['NumTienda'] == 276)\n",
    "df.loc[mascara, 'NomTienda'] = '19210 SUPER CHEDRAUI PROGRESO YUC 11-24'\n",
    "\n",
    "\n",
    "# ---------- Agregando y sustituyendo los nombres faltantes de City ----------\n",
    "mascara = (df['NumTienda'] == 449)\n",
    "df.loc[mascara, 'NomTienda'] = 'CITY MARKET LILAS'\n",
    "\n",
    "mascara = (df['NumTienda'] == 451)\n",
    "df.loc[mascara, 'NomTienda'] = 'FRESKO VALLE REAL'\n",
    "\n",
    "mascara = (df['NumTienda'] == 453)\n",
    "df.loc[mascara, 'NomTienda'] = 'LA COMER ALAMOS'\n",
    "\n",
    "mascara = (df['NumTienda'] == 454)\n",
    "df.loc[mascara, 'NomTienda'] = 'CITY MARKET LOPEZ MATEOS'\n",
    "\n",
    "mascara = (df['NumTienda'] == 455)\n",
    "df.loc[mascara, 'NomTienda'] = 'CITY MARKET SATELITE'\n",
    "\n",
    "# df.loc[df['NumTienda'] == 455]\n",
    "\n",
    "# df.loc[df['NumTienda'] == ]\n",
    "# df.loc[df['ID TIENDA'].isna()]\n",
    "# df.loc[df['ID TIENDA'] == 'SIN ASIGNAR']\n",
    "\n",
    "\n",
    "\n"
   ]
  },
  {
   "cell_type": "code",
   "execution_count": 18,
   "metadata": {},
   "outputs": [],
   "source": [
    "# Guardando el archivo\n",
    "fecha_actual = datetime.now().strftime('%d_%m_%Y')\n",
    "nombre_archivo = f'InventarioLimpio_{fecha_actual}.csv'\n",
    "df.to_csv(f'./limpio/{nombre_archivo}', index=False)"
   ]
  },
  {
   "cell_type": "code",
   "execution_count": 19,
   "metadata": {},
   "outputs": [],
   "source": [
    "# Convertir a JSON y guardar en un archivo\n",
    "# Formato ISO estándar\n",
    "df['Tiempo'] = df['Tiempo'].dt.strftime('%d-%m-%Y')\n",
    "df.to_json(\"./json/data.json\", orient=\"records\", indent=2)"
   ]
  },
  {
   "cell_type": "code",
   "execution_count": 20,
   "metadata": {},
   "outputs": [
    {
     "name": "stdout",
     "output_type": "stream",
     "text": [
      "✅ JSON subido a Firebase Realtime Database\n"
     ]
    }
   ],
   "source": [
    "import firebase_admin\n",
    "from firebase_admin import credentials, db\n",
    "import json\n",
    "\n",
    "try:\n",
    "    firebase_admin.get_app()\n",
    "except ValueError:\n",
    "    cred = credentials.Certificate(\"./firebase/serviceAccountKey.json\")\n",
    "    firebase_admin.initialize_app(cred, {\n",
    "        'databaseURL': 'https://datainventario-37085-default-rtdb.firebaseio.com'\n",
    "    })\n",
    "\n",
    "# Carga tu JSON\n",
    "with open(\"./json/data.json\", \"r\") as f:\n",
    "    data = json.load(f)\n",
    "\n",
    "# Sube el JSON a la ruta 'datos' en la base de datos\n",
    "ref = db.reference('/datos')\n",
    "ref.set(data)\n",
    "\n",
    "print(\"✅ JSON subido a Firebase Realtime Database\")"
   ]
  }
 ],
 "metadata": {
  "kernelspec": {
   "display_name": "Python 3",
   "language": "python",
   "name": "python3"
  },
  "language_info": {
   "codemirror_mode": {
    "name": "ipython",
    "version": 3
   },
   "file_extension": ".py",
   "mimetype": "text/x-python",
   "name": "python",
   "nbconvert_exporter": "python",
   "pygments_lexer": "ipython3",
   "version": "3.10.11"
  }
 },
 "nbformat": 4,
 "nbformat_minor": 2
}
